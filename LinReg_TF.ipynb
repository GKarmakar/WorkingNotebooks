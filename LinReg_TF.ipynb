{
 "cells": [
  {
   "cell_type": "code",
   "execution_count": null,
   "metadata": {
    "collapsed": true
   },
   "outputs": [],
   "source": [
    "%matplotlib.inline\n",
    "from __future__ import absolute_import\n",
    "from __future__ import division\n",
    "from __future__ import print_function\n",
    "\n",
    "import numpy as np\n",
    "import tensorflow as tf\n",
    "import matplotlib\n",
    "matplotlib.use(\"TKAgg\")\n",
    "from matplotlib import pyplot as plt"
   ]
  },
  {
   "cell_type": "code",
   "execution_count": 7,
   "metadata": {
    "collapsed": true
   },
   "outputs": [],
   "source": [
    "#God ole linear regression - find the best fit line to our data\n",
    "\n",
    "def generate_data():\n",
    "    #data is generated as 2x+e\n",
    "    #where e is sampled from normal distribution\n",
    "    X_batch = np.linspace(-1,1,101)\n",
    "    y_batch = 2*X_batch + np.random.randn(*X_batch.shape)*0.3\n",
    "    return X_batch, y_batch"
   ]
  },
  {
   "cell_type": "code",
   "execution_count": 20,
   "metadata": {
    "collapsed": true
   },
   "outputs": [],
   "source": [
    "def linear_regression():\n",
    "    x = tf.placeholder(tf.float32, shape=(None,), name='x')\n",
    "    y = tf.placeholder(tf.float32, shape=(None,), name='y')\n",
    "    \n",
    "    with tf.variable_scope('linreg') as scope:\n",
    "        w = tf.Variable(np.random.normal(), name='W')\n",
    "        y_pred = tf.multiply(w, x) \n",
    "        \n",
    "        loss = tf.reduce_mean(tf.square(y_pred - y))\n",
    "    return x, y, y_pred, loss"
   ]
  },
  {
   "cell_type": "code",
   "execution_count": 27,
   "metadata": {
    "collapsed": false
   },
   "outputs": [],
   "source": [
    "def run():\n",
    "    x_batch, y_batch = generate_data()\n",
    "    x, y, y_pred, loss = linear_regression()\n",
    "    optimizer = tf.train.GradientDescentOptimizer(0.1).minimize(loss)\n",
    "    \n",
    "    init = tf.global_variables_initializer()\n",
    "    with tf.Session() as sess:\n",
    "        sess.run(init)\n",
    "        \n",
    "        feed_dict = {x: x_batch, y: y_batch}\n",
    "        for _ in range(30):\n",
    "            loss_val, _ = sess.run([loss, optimizer], feed_dict=feed_dict)\n",
    "            print('loss:', loss_val.mean())\n",
    "        \n",
    "        y_pred_batch = sess.run(y_pred, {x : x_batch})\n",
    "        \n",
    "        plt.figure(1)\n",
    "        plt.scatter(x_batch, y_batch)\n",
    "        plt.plot(x_batch, y_pred_batch)\n",
    "        plt.savefig('linreg.png')\n",
    "        plt.show()"
   ]
  },
  {
   "cell_type": "code",
   "execution_count": null,
   "metadata": {
    "collapsed": false
   },
   "outputs": [
    {
     "name": "stdout",
     "output_type": "stream",
     "text": [
      "loss: 1.49351\n",
      "loss: 1.30773\n",
      "loss: 1.14636\n",
      "loss: 1.00618\n",
      "loss: 0.884426\n",
      "loss: 0.778665\n",
      "loss: 0.686798\n",
      "loss: 0.607001\n",
      "loss: 0.537687\n",
      "loss: 0.477479\n",
      "loss: 0.425181\n",
      "loss: 0.379754\n",
      "loss: 0.340294\n",
      "loss: 0.306019\n",
      "loss: 0.276247\n",
      "loss: 0.250386\n",
      "loss: 0.227923\n",
      "loss: 0.20841\n",
      "loss: 0.191461\n",
      "loss: 0.176739\n",
      "loss: 0.163951\n",
      "loss: 0.152843\n",
      "loss: 0.143195\n",
      "loss: 0.134814\n",
      "loss: 0.127533\n",
      "loss: 0.12121\n",
      "loss: 0.115717\n",
      "loss: 0.110946\n",
      "loss: 0.106802\n",
      "loss: 0.103202\n"
     ]
    }
   ],
   "source": [
    "if __name__ == '__main__':\n",
    "    run()"
   ]
  },
  {
   "cell_type": "code",
   "execution_count": null,
   "metadata": {
    "collapsed": true
   },
   "outputs": [],
   "source": []
  },
  {
   "cell_type": "code",
   "execution_count": null,
   "metadata": {
    "collapsed": true
   },
   "outputs": [],
   "source": []
  },
  {
   "cell_type": "code",
   "execution_count": null,
   "metadata": {
    "collapsed": true
   },
   "outputs": [],
   "source": []
  },
  {
   "cell_type": "code",
   "execution_count": null,
   "metadata": {
    "collapsed": true
   },
   "outputs": [],
   "source": []
  }
 ],
 "metadata": {
  "kernelspec": {
   "display_name": "Python [conda root]",
   "language": "python",
   "name": "conda-root-py"
  },
  "language_info": {
   "codemirror_mode": {
    "name": "ipython",
    "version": 2
   },
   "file_extension": ".py",
   "mimetype": "text/x-python",
   "name": "python",
   "nbconvert_exporter": "python",
   "pygments_lexer": "ipython2",
   "version": "2.7.12"
  }
 },
 "nbformat": 4,
 "nbformat_minor": 2
}
