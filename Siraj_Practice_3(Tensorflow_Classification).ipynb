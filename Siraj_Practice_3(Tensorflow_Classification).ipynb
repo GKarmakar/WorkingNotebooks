{
 "cells": [
  {
   "cell_type": "code",
   "execution_count": 58,
   "metadata": {
    "collapsed": true
   },
   "outputs": [],
   "source": [
    "%matplotlib inline\n",
    "\n",
    "import pandas as pd\n",
    "import numpy as np\n",
    "import matplotlib.pyplot as plt\n",
    "import tensorflow as tf"
   ]
  },
  {
   "cell_type": "code",
   "execution_count": 59,
   "metadata": {
    "collapsed": false
   },
   "outputs": [],
   "source": [
    "df = pd.read_csv(\"./data/data.csv\")\n",
    "df.head()\n",
    "df = df.drop([\"index\", \"price\", \"sq_price\"], axis=1)"
   ]
  },
  {
   "cell_type": "code",
   "execution_count": 60,
   "metadata": {
    "collapsed": false
   },
   "outputs": [
    {
     "data": {
      "text/html": [
       "<div>\n",
       "<table border=\"1\" class=\"dataframe\">\n",
       "  <thead>\n",
       "    <tr style=\"text-align: right;\">\n",
       "      <th></th>\n",
       "      <th>area</th>\n",
       "      <th>bathrooms</th>\n",
       "    </tr>\n",
       "  </thead>\n",
       "  <tbody>\n",
       "    <tr>\n",
       "      <th>0</th>\n",
       "      <td>2104.0</td>\n",
       "      <td>3.0</td>\n",
       "    </tr>\n",
       "    <tr>\n",
       "      <th>1</th>\n",
       "      <td>1600.0</td>\n",
       "      <td>3.0</td>\n",
       "    </tr>\n",
       "    <tr>\n",
       "      <th>2</th>\n",
       "      <td>2400.0</td>\n",
       "      <td>3.0</td>\n",
       "    </tr>\n",
       "    <tr>\n",
       "      <th>3</th>\n",
       "      <td>1416.0</td>\n",
       "      <td>2.0</td>\n",
       "    </tr>\n",
       "    <tr>\n",
       "      <th>4</th>\n",
       "      <td>3000.0</td>\n",
       "      <td>4.0</td>\n",
       "    </tr>\n",
       "  </tbody>\n",
       "</table>\n",
       "</div>"
      ],
      "text/plain": [
       "     area  bathrooms\n",
       "0  2104.0        3.0\n",
       "1  1600.0        3.0\n",
       "2  2400.0        3.0\n",
       "3  1416.0        2.0\n",
       "4  3000.0        4.0"
      ]
     },
     "execution_count": 60,
     "metadata": {},
     "output_type": "execute_result"
    }
   ],
   "source": [
    "df.head()"
   ]
  },
  {
   "cell_type": "code",
   "execution_count": 61,
   "metadata": {
    "collapsed": false
   },
   "outputs": [
    {
     "data": {
      "text/html": [
       "<div>\n",
       "<table border=\"1\" class=\"dataframe\">\n",
       "  <thead>\n",
       "    <tr style=\"text-align: right;\">\n",
       "      <th></th>\n",
       "      <th>area</th>\n",
       "      <th>bathrooms</th>\n",
       "      <th>y1</th>\n",
       "      <th>y2</th>\n",
       "    </tr>\n",
       "  </thead>\n",
       "  <tbody>\n",
       "    <tr>\n",
       "      <th>0</th>\n",
       "      <td>2104.0</td>\n",
       "      <td>3.0</td>\n",
       "      <td>1</td>\n",
       "      <td>0</td>\n",
       "    </tr>\n",
       "    <tr>\n",
       "      <th>1</th>\n",
       "      <td>1600.0</td>\n",
       "      <td>3.0</td>\n",
       "      <td>1</td>\n",
       "      <td>0</td>\n",
       "    </tr>\n",
       "    <tr>\n",
       "      <th>2</th>\n",
       "      <td>2400.0</td>\n",
       "      <td>3.0</td>\n",
       "      <td>0</td>\n",
       "      <td>1</td>\n",
       "    </tr>\n",
       "    <tr>\n",
       "      <th>3</th>\n",
       "      <td>1416.0</td>\n",
       "      <td>2.0</td>\n",
       "      <td>0</td>\n",
       "      <td>1</td>\n",
       "    </tr>\n",
       "    <tr>\n",
       "      <th>4</th>\n",
       "      <td>3000.0</td>\n",
       "      <td>4.0</td>\n",
       "      <td>0</td>\n",
       "      <td>1</td>\n",
       "    </tr>\n",
       "    <tr>\n",
       "      <th>5</th>\n",
       "      <td>1985.0</td>\n",
       "      <td>4.0</td>\n",
       "      <td>1</td>\n",
       "      <td>0</td>\n",
       "    </tr>\n",
       "    <tr>\n",
       "      <th>6</th>\n",
       "      <td>1534.0</td>\n",
       "      <td>3.0</td>\n",
       "      <td>1</td>\n",
       "      <td>0</td>\n",
       "    </tr>\n",
       "    <tr>\n",
       "      <th>7</th>\n",
       "      <td>1427.0</td>\n",
       "      <td>3.0</td>\n",
       "      <td>1</td>\n",
       "      <td>0</td>\n",
       "    </tr>\n",
       "    <tr>\n",
       "      <th>8</th>\n",
       "      <td>1380.0</td>\n",
       "      <td>3.0</td>\n",
       "      <td>0</td>\n",
       "      <td>1</td>\n",
       "    </tr>\n",
       "    <tr>\n",
       "      <th>9</th>\n",
       "      <td>1494.0</td>\n",
       "      <td>3.0</td>\n",
       "      <td>1</td>\n",
       "      <td>0</td>\n",
       "    </tr>\n",
       "  </tbody>\n",
       "</table>\n",
       "</div>"
      ],
      "text/plain": [
       "     area  bathrooms  y1  y2\n",
       "0  2104.0        3.0   1   0\n",
       "1  1600.0        3.0   1   0\n",
       "2  2400.0        3.0   0   1\n",
       "3  1416.0        2.0   0   1\n",
       "4  3000.0        4.0   0   1\n",
       "5  1985.0        4.0   1   0\n",
       "6  1534.0        3.0   1   0\n",
       "7  1427.0        3.0   1   0\n",
       "8  1380.0        3.0   0   1\n",
       "9  1494.0        3.0   1   0"
      ]
     },
     "execution_count": 61,
     "metadata": {},
     "output_type": "execute_result"
    }
   ],
   "source": [
    "df = df[0:10]\n",
    "df.loc[:, (\"y1\")] = [1,1,0,0,0,1,1,1,0,1] # 1 = good, - = bad\n",
    "df.loc[:, (\"y2\")] = df['y1'] == 0 # y2 is exact opposite of y1\n",
    "df.loc[:, \"y2\"] = df[\"y2\"].astype(int)\n",
    "df"
   ]
  },
  {
   "cell_type": "code",
   "execution_count": 62,
   "metadata": {
    "collapsed": true
   },
   "outputs": [],
   "source": [
    "X = df.loc[:, ['area', 'bathrooms']].as_matrix()\n",
    "y = df.loc[:, ['y1', \"y2\"]].as_matrix()"
   ]
  },
  {
   "cell_type": "code",
   "execution_count": 63,
   "metadata": {
    "collapsed": false
   },
   "outputs": [
    {
     "data": {
      "text/plain": [
       "array([[  2.10400000e+03,   3.00000000e+00],\n",
       "       [  1.60000000e+03,   3.00000000e+00],\n",
       "       [  2.40000000e+03,   3.00000000e+00],\n",
       "       [  1.41600000e+03,   2.00000000e+00],\n",
       "       [  3.00000000e+03,   4.00000000e+00],\n",
       "       [  1.98500000e+03,   4.00000000e+00],\n",
       "       [  1.53400000e+03,   3.00000000e+00],\n",
       "       [  1.42700000e+03,   3.00000000e+00],\n",
       "       [  1.38000000e+03,   3.00000000e+00],\n",
       "       [  1.49400000e+03,   3.00000000e+00]])"
      ]
     },
     "execution_count": 63,
     "metadata": {},
     "output_type": "execute_result"
    }
   ],
   "source": [
    "X"
   ]
  },
  {
   "cell_type": "code",
   "execution_count": 64,
   "metadata": {
    "collapsed": false
   },
   "outputs": [
    {
     "data": {
      "text/plain": [
       "array([[1, 0],\n",
       "       [1, 0],\n",
       "       [0, 1],\n",
       "       [0, 1],\n",
       "       [0, 1],\n",
       "       [1, 0],\n",
       "       [1, 0],\n",
       "       [1, 0],\n",
       "       [0, 1],\n",
       "       [1, 0]])"
      ]
     },
     "execution_count": 64,
     "metadata": {},
     "output_type": "execute_result"
    }
   ],
   "source": [
    "y"
   ]
  },
  {
   "cell_type": "code",
   "execution_count": 65,
   "metadata": {
    "collapsed": false
   },
   "outputs": [],
   "source": [
    "#parameters\n",
    "learningRate = 0.00001\n",
    "training_epochs = 2000\n",
    "dislay_step = 50\n",
    "n_samples = y.size"
   ]
  },
  {
   "cell_type": "code",
   "execution_count": 66,
   "metadata": {
    "collapsed": false
   },
   "outputs": [],
   "source": [
    "x = tf.placeholder(tf.float32, [None, 2])\n",
    "W = tf.Variable(tf.zeros([2,2])) #Number of input features, number of output classes\n",
    "b = tf.Variable(tf.zeros([2]))\n",
    "y_values = tf.add(tf.matmul(x, W), b)\n",
    "y_pred = tf.nn.softmax(y_values)\n",
    "\n",
    "y_ = tf.placeholder(tf.float32, [None,2])"
   ]
  },
  {
   "cell_type": "code",
   "execution_count": 67,
   "metadata": {
    "collapsed": false
   },
   "outputs": [],
   "source": [
    "cost = tf.reduce_mean(tf.pow(y_ - y_pred,2))/ (2*n_samples)\n",
    "optimizer = tf.train.GradientDescentOptimizer(learningRate).minimize(cost)"
   ]
  },
  {
   "cell_type": "code",
   "execution_count": 68,
   "metadata": {
    "collapsed": false
   },
   "outputs": [],
   "source": [
    "init = tf.global_variables_initializer()\n",
    "sess = tf.InteractiveSession()\n",
    "sess.run(init)"
   ]
  },
  {
   "cell_type": "code",
   "execution_count": 69,
   "metadata": {
    "collapsed": false
   },
   "outputs": [
    {
     "name": "stdout",
     "output_type": "stream",
     "text": [
      "('training step:', '0000', 'Cost=', '0.006223696')\n",
      "('training step:', '0010', 'Cost=', '0.006183183')\n",
      "('training step:', '0020', 'Cost=', '0.006182813')\n",
      "('training step:', '0030', 'Cost=', '0.006182808')\n",
      "('training step:', '0040', 'Cost=', '0.006182807')\n",
      "('training step:', '0050', 'Cost=', '0.006182806')\n",
      "('training step:', '0060', 'Cost=', '0.006182804')\n",
      "('training step:', '0070', 'Cost=', '0.006182804')\n",
      "('training step:', '0080', 'Cost=', '0.006182802')\n",
      "('training step:', '0090', 'Cost=', '0.006182801')\n",
      "('training step:', '0100', 'Cost=', '0.006182800')\n",
      "('training step:', '0110', 'Cost=', '0.006182798')\n",
      "('training step:', '0120', 'Cost=', '0.006182797')\n",
      "('training step:', '0130', 'Cost=', '0.006182796')\n",
      "('training step:', '0140', 'Cost=', '0.006182794')\n",
      "('training step:', '0150', 'Cost=', '0.006182794')\n",
      "('training step:', '0160', 'Cost=', '0.006182793')\n",
      "('training step:', '0170', 'Cost=', '0.006182791')\n",
      "('training step:', '0180', 'Cost=', '0.006182790')\n",
      "('training step:', '0190', 'Cost=', '0.006182789')\n",
      "('training step:', '0200', 'Cost=', '0.006182787')\n",
      "('training step:', '0210', 'Cost=', '0.006182786')\n",
      "('training step:', '0220', 'Cost=', '0.006182786')\n",
      "('training step:', '0230', 'Cost=', '0.006182785')\n",
      "('training step:', '0240', 'Cost=', '0.006182783')\n",
      "('training step:', '0250', 'Cost=', '0.006182781')\n",
      "('training step:', '0260', 'Cost=', '0.006182780')\n",
      "('training step:', '0270', 'Cost=', '0.006182779')\n",
      "('training step:', '0280', 'Cost=', '0.006182779')\n",
      "('training step:', '0290', 'Cost=', '0.006182777')\n",
      "('training step:', '0300', 'Cost=', '0.006182776')\n",
      "('training step:', '0310', 'Cost=', '0.006182774')\n",
      "('training step:', '0320', 'Cost=', '0.006182773')\n",
      "('training step:', '0330', 'Cost=', '0.006182772')\n",
      "('training step:', '0340', 'Cost=', '0.006182771')\n",
      "('training step:', '0350', 'Cost=', '0.006182770')\n",
      "('training step:', '0360', 'Cost=', '0.006182768')\n",
      "('training step:', '0370', 'Cost=', '0.006182767')\n",
      "('training step:', '0380', 'Cost=', '0.006182766')\n",
      "('training step:', '0390', 'Cost=', '0.006182765')\n",
      "('training step:', '0400', 'Cost=', '0.006182764')\n",
      "('training step:', '0410', 'Cost=', '0.006182762')\n",
      "('training step:', '0420', 'Cost=', '0.006182761')\n",
      "('training step:', '0430', 'Cost=', '0.006182760')\n",
      "('training step:', '0440', 'Cost=', '0.006182759')\n",
      "('training step:', '0450', 'Cost=', '0.006182758')\n",
      "('training step:', '0460', 'Cost=', '0.006182757')\n",
      "('training step:', '0470', 'Cost=', '0.006182755')\n",
      "('training step:', '0480', 'Cost=', '0.006182754')\n",
      "('training step:', '0490', 'Cost=', '0.006182753')\n",
      "('training step:', '0500', 'Cost=', '0.006182752')\n",
      "('training step:', '0510', 'Cost=', '0.006182750')\n",
      "('training step:', '0520', 'Cost=', '0.006182750')\n",
      "('training step:', '0530', 'Cost=', '0.006182748')\n",
      "('training step:', '0540', 'Cost=', '0.006182747')\n",
      "('training step:', '0550', 'Cost=', '0.006182746')\n",
      "('training step:', '0560', 'Cost=', '0.006182744')\n",
      "('training step:', '0570', 'Cost=', '0.006182743')\n",
      "('training step:', '0580', 'Cost=', '0.006182742')\n",
      "('training step:', '0590', 'Cost=', '0.006182741')\n",
      "('training step:', '0600', 'Cost=', '0.006182740')\n",
      "('training step:', '0610', 'Cost=', '0.006182739')\n",
      "('training step:', '0620', 'Cost=', '0.006182737')\n",
      "('training step:', '0630', 'Cost=', '0.006182736')\n",
      "('training step:', '0640', 'Cost=', '0.006182735')\n",
      "('training step:', '0650', 'Cost=', '0.006182734')\n",
      "('training step:', '0660', 'Cost=', '0.006182733')\n",
      "('training step:', '0670', 'Cost=', '0.006182731')\n",
      "('training step:', '0680', 'Cost=', '0.006182730')\n",
      "('training step:', '0690', 'Cost=', '0.006182729')\n",
      "('training step:', '0700', 'Cost=', '0.006182728')\n",
      "('training step:', '0710', 'Cost=', '0.006182726')\n",
      "('training step:', '0720', 'Cost=', '0.006182726')\n",
      "('training step:', '0730', 'Cost=', '0.006182724')\n",
      "('training step:', '0740', 'Cost=', '0.006182724')\n",
      "('training step:', '0750', 'Cost=', '0.006182722')\n",
      "('training step:', '0760', 'Cost=', '0.006182720')\n",
      "('training step:', '0770', 'Cost=', '0.006182719')\n",
      "('training step:', '0780', 'Cost=', '0.006182718')\n",
      "('training step:', '0790', 'Cost=', '0.006182717')\n",
      "('training step:', '0800', 'Cost=', '0.006182716')\n",
      "('training step:', '0810', 'Cost=', '0.006182714')\n",
      "('training step:', '0820', 'Cost=', '0.006182713')\n",
      "('training step:', '0830', 'Cost=', '0.006182713')\n",
      "('training step:', '0840', 'Cost=', '0.006182711')\n",
      "('training step:', '0850', 'Cost=', '0.006182710')\n",
      "('training step:', '0860', 'Cost=', '0.006182709')\n",
      "('training step:', '0870', 'Cost=', '0.006182707')\n",
      "('training step:', '0880', 'Cost=', '0.006182706')\n",
      "('training step:', '0890', 'Cost=', '0.006182705')\n",
      "('training step:', '0900', 'Cost=', '0.006182704')\n",
      "('training step:', '0910', 'Cost=', '0.006182703')\n",
      "('training step:', '0920', 'Cost=', '0.006182701')\n",
      "('training step:', '0930', 'Cost=', '0.006182700')\n",
      "('training step:', '0940', 'Cost=', '0.006182699')\n",
      "('training step:', '0950', 'Cost=', '0.006182698')\n",
      "('training step:', '0960', 'Cost=', '0.006182697')\n",
      "('training step:', '0970', 'Cost=', '0.006182696')\n",
      "('training step:', '0980', 'Cost=', '0.006182694')\n",
      "('training step:', '0990', 'Cost=', '0.006182692')\n",
      "('training step:', '1000', 'Cost=', '0.006182692')\n",
      "('training step:', '1010', 'Cost=', '0.006182691')\n",
      "('training step:', '1020', 'Cost=', '0.006182690')\n",
      "('training step:', '1030', 'Cost=', '0.006182688')\n",
      "('training step:', '1040', 'Cost=', '0.006182687')\n",
      "('training step:', '1050', 'Cost=', '0.006182685')\n",
      "('training step:', '1060', 'Cost=', '0.006182685')\n",
      "('training step:', '1070', 'Cost=', '0.006182684')\n",
      "('training step:', '1080', 'Cost=', '0.006182683')\n",
      "('training step:', '1090', 'Cost=', '0.006182681')\n",
      "('training step:', '1100', 'Cost=', '0.006182680')\n",
      "('training step:', '1110', 'Cost=', '0.006182679')\n",
      "('training step:', '1120', 'Cost=', '0.006182678')\n",
      "('training step:', '1130', 'Cost=', '0.006182677')\n",
      "('training step:', '1140', 'Cost=', '0.006182675')\n",
      "('training step:', '1150', 'Cost=', '0.006182674')\n",
      "('training step:', '1160', 'Cost=', '0.006182673')\n",
      "('training step:', '1170', 'Cost=', '0.006182672')\n",
      "('training step:', '1180', 'Cost=', '0.006182671')\n",
      "('training step:', '1190', 'Cost=', '0.006182669')\n",
      "('training step:', '1200', 'Cost=', '0.006182668')\n",
      "('training step:', '1210', 'Cost=', '0.006182666')\n",
      "('training step:', '1220', 'Cost=', '0.006182666')\n",
      "('training step:', '1230', 'Cost=', '0.006182665')\n",
      "('training step:', '1240', 'Cost=', '0.006182664')\n",
      "('training step:', '1250', 'Cost=', '0.006182662')\n",
      "('training step:', '1260', 'Cost=', '0.006182661')\n",
      "('training step:', '1270', 'Cost=', '0.006182659')\n",
      "('training step:', '1280', 'Cost=', '0.006182658')\n",
      "('training step:', '1290', 'Cost=', '0.006182658')\n",
      "('training step:', '1300', 'Cost=', '0.006182657')\n",
      "('training step:', '1310', 'Cost=', '0.006182655')\n",
      "('training step:', '1320', 'Cost=', '0.006182654')\n",
      "('training step:', '1330', 'Cost=', '0.006182652')\n",
      "('training step:', '1340', 'Cost=', '0.006182651')\n",
      "('training step:', '1350', 'Cost=', '0.006182651')\n",
      "('training step:', '1360', 'Cost=', '0.006182649')\n",
      "('training step:', '1370', 'Cost=', '0.006182647')\n",
      "('training step:', '1380', 'Cost=', '0.006182647')\n",
      "('training step:', '1390', 'Cost=', '0.006182645')\n",
      "('training step:', '1400', 'Cost=', '0.006182644')\n",
      "('training step:', '1410', 'Cost=', '0.006182643')\n",
      "('training step:', '1420', 'Cost=', '0.006182642')\n",
      "('training step:', '1430', 'Cost=', '0.006182641')\n",
      "('training step:', '1440', 'Cost=', '0.006182640')\n",
      "('training step:', '1450', 'Cost=', '0.006182638')\n",
      "('training step:', '1460', 'Cost=', '0.006182637')\n",
      "('training step:', '1470', 'Cost=', '0.006182636')\n",
      "('training step:', '1480', 'Cost=', '0.006182634')\n",
      "('training step:', '1490', 'Cost=', '0.006182634')\n",
      "('training step:', '1500', 'Cost=', '0.006182632')\n",
      "('training step:', '1510', 'Cost=', '0.006182631')\n",
      "('training step:', '1520', 'Cost=', '0.006182630')\n",
      "('training step:', '1530', 'Cost=', '0.006182629')\n",
      "('training step:', '1540', 'Cost=', '0.006182628')\n",
      "('training step:', '1550', 'Cost=', '0.006182626')\n",
      "('training step:', '1560', 'Cost=', '0.006182625')\n",
      "('training step:', '1570', 'Cost=', '0.006182624')\n",
      "('training step:', '1580', 'Cost=', '0.006182623')\n",
      "('training step:', '1590', 'Cost=', '0.006182621')\n",
      "('training step:', '1600', 'Cost=', '0.006182620')\n",
      "('training step:', '1610', 'Cost=', '0.006182619')\n",
      "('training step:', '1620', 'Cost=', '0.006182618')\n",
      "('training step:', '1630', 'Cost=', '0.006182617')\n",
      "('training step:', '1640', 'Cost=', '0.006182615')\n",
      "('training step:', '1650', 'Cost=', '0.006182614')\n",
      "('training step:', '1660', 'Cost=', '0.006182613')\n",
      "('training step:', '1670', 'Cost=', '0.006182612')\n",
      "('training step:', '1680', 'Cost=', '0.006182611')\n",
      "('training step:', '1690', 'Cost=', '0.006182610')\n",
      "('training step:', '1700', 'Cost=', '0.006182609')\n",
      "('training step:', '1710', 'Cost=', '0.006182607')\n",
      "('training step:', '1720', 'Cost=', '0.006182606')\n",
      "('training step:', '1730', 'Cost=', '0.006182604')\n",
      "('training step:', '1740', 'Cost=', '0.006182603')\n",
      "('training step:', '1750', 'Cost=', '0.006182601')\n",
      "('training step:', '1760', 'Cost=', '0.006182600')\n",
      "('training step:', '1770', 'Cost=', '0.006182600')\n",
      "('training step:', '1780', 'Cost=', '0.006182599')\n",
      "('training step:', '1790', 'Cost=', '0.006182597')\n",
      "('training step:', '1800', 'Cost=', '0.006182597')\n",
      "('training step:', '1810', 'Cost=', '0.006182595')\n",
      "('training step:', '1820', 'Cost=', '0.006182594')\n",
      "('training step:', '1830', 'Cost=', '0.006182593')\n",
      "('training step:', '1840', 'Cost=', '0.006182591')\n",
      "('training step:', '1850', 'Cost=', '0.006182591')\n",
      "('training step:', '1860', 'Cost=', '0.006182589')\n",
      "('training step:', '1870', 'Cost=', '0.006182588')\n",
      "('training step:', '1880', 'Cost=', '0.006182586')\n",
      "('training step:', '1890', 'Cost=', '0.006182585')\n",
      "('training step:', '1900', 'Cost=', '0.006182585')\n",
      "('training step:', '1910', 'Cost=', '0.006182584')\n",
      "('training step:', '1920', 'Cost=', '0.006182582')\n",
      "('training step:', '1930', 'Cost=', '0.006182580')\n",
      "('training step:', '1940', 'Cost=', '0.006182579')\n",
      "('training step:', '1950', 'Cost=', '0.006182577')\n",
      "('training step:', '1960', 'Cost=', '0.006182577')\n",
      "('training step:', '1970', 'Cost=', '0.006182577')\n",
      "('training step:', '1980', 'Cost=', '0.006182575')\n",
      "('training step:', '1990', 'Cost=', '0.006182573')\n",
      "Optimization finished\n",
      "('Training cost:', 0.0061825728, 'W=', array([[  5.61305205e-05,  -5.61304441e-05],\n",
      "       [  4.74238077e-05,  -4.74238077e-05]], dtype=float32), 'b=', array([  1.24060152e-05,  -1.24060125e-05], dtype=float32))\n"
     ]
    }
   ],
   "source": [
    "#Train the model\n",
    "\n",
    "for i in range(training_epochs):\n",
    "    sess.run(optimizer, feed_dict={x: X, y_: y})\n",
    "    if i % 10 == 0:\n",
    "        cc = sess.run(cost, feed_dict={x: X, y_: y})\n",
    "        print(\"training step:\", '%04d' % (i), \"Cost=\", \"{:,.9f}\".format(cc))\n",
    "\n",
    "print(\"Optimization finished\")\n",
    "training_cost = sess.run(cost, feed_dict={x: X, y_: y})\n",
    "print(\"Training cost:\", training_cost, \"W=\", sess.run(W), \"b=\", sess.run(b))"
   ]
  },
  {
   "cell_type": "code",
   "execution_count": 70,
   "metadata": {
    "collapsed": false
   },
   "outputs": [
    {
     "data": {
      "text/plain": [
       "array([[ 0.55885255,  0.44114748],\n",
       "       [ 0.54486078,  0.45513925],\n",
       "       [ 0.56702805,  0.43297198],\n",
       "       [ 0.53971022,  0.46028981],\n",
       "       [ 0.58350706,  0.41649291],\n",
       "       [ 0.5555799 ,  0.44442007],\n",
       "       [ 0.54302275,  0.45697722],\n",
       "       [ 0.54004049,  0.45995948],\n",
       "       [ 0.53872961,  0.46127036],\n",
       "       [ 0.54190826,  0.45809177]], dtype=float32)"
      ]
     },
     "execution_count": 70,
     "metadata": {},
     "output_type": "execute_result"
    }
   ],
   "source": [
    "sess.run(y_pred, feed_dict={x: X})"
   ]
  },
  {
   "cell_type": "code",
   "execution_count": null,
   "metadata": {
    "collapsed": true
   },
   "outputs": [],
   "source": []
  }
 ],
 "metadata": {
  "kernelspec": {
   "display_name": "Python [conda root]",
   "language": "python",
   "name": "conda-root-py"
  },
  "language_info": {
   "codemirror_mode": {
    "name": "ipython",
    "version": 2
   },
   "file_extension": ".py",
   "mimetype": "text/x-python",
   "name": "python",
   "nbconvert_exporter": "python",
   "pygments_lexer": "ipython2",
   "version": "2.7.12"
  }
 },
 "nbformat": 4,
 "nbformat_minor": 2
}
