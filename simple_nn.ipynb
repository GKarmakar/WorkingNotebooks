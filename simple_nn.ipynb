{
 "cells": [
  {
   "cell_type": "code",
   "execution_count": null,
   "metadata": {
    "collapsed": false
   },
   "outputs": [],
   "source": [
    "import tensorflow as tf\n",
    "import numpy as np\n",
    "import math\n",
    "from tqdm import tqdm"
   ]
  },
  {
   "cell_type": "code",
   "execution_count": null,
   "metadata": {
    "collapsed": true
   },
   "outputs": [],
   "source": [
    "sess = tf.InteractiveSession()"
   ]
  },
  {
   "cell_type": "code",
   "execution_count": null,
   "metadata": {
    "collapsed": false
   },
   "outputs": [],
   "source": [
    "#some tensor operation used in neural network\n",
    "x1 = tf.Variable(tf.truncated_normal([5], mean = 3, stddev = 1./ math.sqrt(5)))\n",
    "x2 = tf.Variable(tf.truncated_normal([5], mean = 1, stddev = 1./ math.sqrt(5)))\n",
    "x3 = tf.Variable(tf.truncated_normal([5], mean = 0, stddev = 1./ math.sqrt(5)))\n",
    "\n",
    "sess.run(tf.initialize_all_variables())\n",
    "\n",
    "sqx2 = x2 * x2\n",
    "print(x2.eval())\n",
    "\n",
    "logx1 = tf.log(x1)\n",
    "print(x1.eval())\n",
    "print(logx1.eval())"
   ]
  },
  {
   "cell_type": "code",
   "execution_count": null,
   "metadata": {
    "collapsed": false
   },
   "outputs": [],
   "source": [
    "sigx3 = tf.sigmoid(x3)\n",
    "print(x3.eval())\n",
    "print(sigx3.eval())"
   ]
  },
  {
   "cell_type": "code",
   "execution_count": null,
   "metadata": {
    "collapsed": false
   },
   "outputs": [],
   "source": [
    "w1 = tf.constant(0.1)\n",
    "w2 = tf.constant(0.2)\n",
    "sess.run(tf.initialize_all_variables())\n",
    "\n",
    "n1 = tf.sigmoid(w1*x1 + w2*x2)\n",
    "print((w1*x1).eval())\n",
    "print((w2*x2).eval())\n",
    "print(n1.eval())"
   ]
  },
  {
   "cell_type": "code",
   "execution_count": null,
   "metadata": {
    "collapsed": false
   },
   "outputs": [],
   "source": [
    "#Let's build a simple NN\n",
    "\n",
    "#Load data\n",
    "data = np.load('data_with_labels.npz')\n",
    "train = data['arr_0']/255.\n",
    "labels = data['arr_1']\n",
    "\n",
    "# Look at some data\n",
    "print(train[0])\n",
    "print(labels[0])\n",
    "\n",
    "# If you have matplotlib installed\n",
    "import matplotlib.pyplot as plt\n",
    "plt.ion()\n",
    "\n",
    "def to_onehot(labels,nclasses = 5):\n",
    "    '''\n",
    "    Convert labels to \"one-hot\" format.\n",
    "\n",
    "    >>> a = [0,1,2,3]\n",
    "    >>> to_onehot(a,5)\n",
    "    array([[ 1.,  0.,  0.,  0.,  0.],\n",
    "           [ 0.,  1.,  0.,  0.,  0.],\n",
    "           [ 0.,  0.,  1.,  0.,  0.],\n",
    "           [ 0.,  0.,  0.,  1.,  0.]])\n",
    "    '''\n",
    "    outlabels = np.zeros((len(labels),nclasses))\n",
    "    for i,l in enumerate(labels):\n",
    "        outlabels[i,l] = 1\n",
    "    return outlabels\n",
    "\n",
    "onehot = to_onehot(labels)\n",
    "\n",
    "# Split data into training and validation\n",
    "indices = np.random.permutation(train.shape[0])\n",
    "valid_cnt = int(train.shape[0] * 0.1)\n",
    "test_idx, training_idx = indices[:valid_cnt], indices[valid_cnt:]\n",
    "test, train = train[test_idx,:], train[training_idx,:]\n",
    "onehot_test, onehot_train = onehot[test_idx,:], onehot[training_idx,:]\n",
    "\n",
    "sess = tf.InteractiveSession()\n",
    "\n",
    "\n",
    "# These will be inputs\n",
    "## Input pixels, flattened\n",
    "x = tf.placeholder(\"float\", [None, 1296])\n",
    "## Known labels\n",
    "y_ = tf.placeholder(\"float\", [None,5])\n",
    "num_hidden = 128\n",
    "W1 = tf.Variable(tf.truncated_normal([1296, num_hidden], stddev = 1./math.sqrt(1296)))\n",
    "b1 = tf.Variable(tf.constant(0.1, shape=[num_hidden]))\n",
    "\n",
    "h1 = tf.sigmoid(tf.matmul(x, W1) + b1)\n",
    "\n",
    "W2 = tf.Variable(tf.truncated_normal([num_hidden, 5], stddev = 1./math.sqrt(5)))\n",
    "b2 = tf.Variable(tf.constant(0.1, shape = [5]))\n",
    "\n",
    "sess.run(tf.initialize_all_variables())\n",
    "\n",
    "y = tf.nn.softmax(tf.matmul(h1, W2) + b2)\n",
    "\n",
    "cross_entropy = tf.reduce_mean(tf.nn.softmax_cross_entropy_with_logits(y + 1e-20, y_))\n",
    "                               \n",
    "#How we train\n",
    "train_step = tf.train.GradientDescentOptimizer(0.01).minimize(cross_entropy)\n",
    "\n",
    "#Define accuracy\n",
    "                               \n",
    "correct_prediction = tf.equal(tf.argmax(y,1), tf.argmax(y_,1))\n",
    "accuracy = tf.reduce_mean(tf.cast(correct_prediction, \"float\"))\n",
    "\n",
    "#End of model build and execute actual training\n",
    "                               \n",
    "epochs = 10000\n",
    "train_acc = np.zeros(epochs//10)\n",
    "test_acc = np.zeros(epochs//10)\n",
    "                               \n",
    "for i in tqdm(range(epochs)):\n",
    "    if i % 10 == 0:\n",
    "        A = accuracy.eval(feed_dict={x: train.reshape([-1, 1296]), y_: onehot_train})                       \n",
    "        train_acc[i//10] = A\n",
    "        A = accuracy.eval(feed_dict={x: test.reshape([-1, 1296]), y_: onehot_test})                       \n",
    "        test_acc[i//10] = A\n",
    "    train_step.run(feed_dict={x: train.reshape([-1, 1296]), y_: onehot_train})\n",
    "\n",
    "#Plot the accuracy curve\n",
    "plt.plot(train_acc, 'bo')\n",
    "plt.plot(test_acc, 'rx')\n",
    "                               \n",
    "#Look at the final testing confusion matrix\n",
    "pred = np.argmax(y.eval(feed_dict={x: test.reshape([-1, 1296]), y_: onehot_test}), axis = 1)\n",
    "conf = np.zeros([5,5])\n",
    "for p, t in zip(pred,np.argmax(onehot_test, axis=1)):\n",
    "    conf[t,p] += 1\n",
    "                               \n",
    "plt.matshow(conf)\n",
    "plt.colorbar()       "
   ]
  },
  {
   "cell_type": "code",
   "execution_count": null,
   "metadata": {
    "collapsed": false
   },
   "outputs": [],
   "source": [
    "#let's look at subplot of some weights\n",
    "f, plts = plt.subplots(4,8,sharex=True)\n",
    "for i in range(32):\n",
    "    plts[i//8, i%8].pcolormesh(W1.eval()[:, i].reshape([36,36]))"
   ]
  },
  {
   "cell_type": "code",
   "execution_count": null,
   "metadata": {
    "collapsed": true
   },
   "outputs": [],
   "source": []
  }
 ],
 "metadata": {
  "anaconda-cloud": {},
  "kernelspec": {
   "display_name": "Python [conda root]",
   "language": "python",
   "name": "conda-root-py"
  },
  "language_info": {
   "codemirror_mode": {
    "name": "ipython",
    "version": 2
   },
   "file_extension": ".py",
   "mimetype": "text/x-python",
   "name": "python",
   "nbconvert_exporter": "python",
   "pygments_lexer": "ipython2",
   "version": "2.7.12"
  }
 },
 "nbformat": 4,
 "nbformat_minor": 2
}
