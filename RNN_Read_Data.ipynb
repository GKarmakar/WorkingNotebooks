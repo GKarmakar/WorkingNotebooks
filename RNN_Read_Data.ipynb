{
 "cells": [
  {
   "cell_type": "code",
   "execution_count": 3,
   "metadata": {
    "collapsed": false
   },
   "outputs": [],
   "source": [
    "from __future__ import absolute_import\n",
    "from __future__ import print_function\n",
    "from __future__ import division"
   ]
  },
  {
   "cell_type": "code",
   "execution_count": 4,
   "metadata": {
    "collapsed": true
   },
   "outputs": [],
   "source": [
    "import collections\n",
    "import os"
   ]
  },
  {
   "cell_type": "code",
   "execution_count": 5,
   "metadata": {
    "collapsed": true
   },
   "outputs": [],
   "source": [
    "import tensorflow as tf"
   ]
  },
  {
   "cell_type": "code",
   "execution_count": 7,
   "metadata": {
    "collapsed": false
   },
   "outputs": [],
   "source": [
    "def _real_words(filename):\n",
    "    with tf.gfile.GFile(filename, 'r') as f:\n",
    "        return f.read().decode(\"utf-8\").replace(\"\\n\", \"<eos>\").split()"
   ]
  },
  {
   "cell_type": "code",
   "execution_count": 11,
   "metadata": {
    "collapsed": false
   },
   "outputs": [],
   "source": [
    "def _build_vocab(filename):\n",
    "    data = _real_words(filename)\n",
    "    counter = collections.Counter(data)\n",
    "    count_pair = sorted(counter.items(), key=lambda x: (-x[1], x[0]))\n",
    "    words, _ = list(zip(*count_pairs))\n",
    "    words_to_id = dict(zip(words, range(len(words))))\n",
    "    return words_to_id"
   ]
  },
  {
   "cell_type": "code",
   "execution_count": 12,
   "metadata": {
    "collapsed": true
   },
   "outputs": [],
   "source": [
    "def _file_to_words_id(filename, words_to_id):\n",
    "    data = _read_words(filename)\n",
    "    return [word_to_id[word] for word in data if word in word_to_id]"
   ]
  },
  {
   "cell_type": "code",
   "execution_count": 13,
   "metadata": {
    "collapsed": true
   },
   "outputs": [],
   "source": [
    "def ptb_raw_data(data_path=None):\n",
    "    \"\"\"Load ptb data from data directory.\n",
    "       Reads PTB text files, converts strings to integer ids,\n",
    "       and performs mini-batching of the inputs.\n",
    "       The PTB dataset comes from Tomas Mikolov's webpage:\n",
    "       http://www.fit.vutbr.cz/~imikolov/rnnlm/simple-examples.tgz\n",
    "       Args:\n",
    "       data_path: string path to the directory where simple-examples.tgz has\n",
    "       been extracted.\n",
    "       Returns:\n",
    "       tuple (train_data, valid_data, test_data, vocabulary)\n",
    "       where each of the data objects can be passed to PTBIterator.\"\"\"\n",
    "    \n",
    "    train_path = os.path.join(data_path, \"ptb.train.txt\")\n",
    "    valid_path = os.path.join(data_path, \"ptb.valid.txt\")\n",
    "    test_path =  os.path.join(data_path, \"ptb.test.txt\")\n",
    "    \n",
    "    word_to_id = _build_vocab(train_path)\n",
    "    train_data = _file_to_word_ids(train_path, word_to_id)\n",
    "    valid_data = _file_to_word_ids(valid_path, word_to_id)\n",
    "    test_data = _file_to_word_ids(test_path, word_to_id)\n",
    "    vocabulary = len(word_to_id)\n",
    "    return train_data, valid_data, test_data, vocabulary"
   ]
  },
  {
   "cell_type": "code",
   "execution_count": 14,
   "metadata": {
    "collapsed": true
   },
   "outputs": [],
   "source": [
    "def ptb_producer(raw_data, batch_size, num_steps, name=None):\n",
    "    \"\"\" Iterate on the raw PTB data.\n",
    "    This chunks up raw data into batches of examples and return Tensor that\n",
    "    Args: \n",
    "      Raw data: one of the raw data outputs from ptb_raw_data.\n",
    "      batch_size: int, the batch size\n",
    "      num_steps: int, the number of unrolls\n",
    "      name: the name of this operation(optional)\n",
    "    \n",
    "    Returns:\n",
    "        A pair of Tensors, each shaped [batch_size, num_steps]. The second element\n",
    "        of the tuple is the same data time-shaped to the right by one.\n",
    "    Raises:\n",
    "        tf.erros.InvaidArgumentError: if batch_size or num_steps are too high.\n",
    "    \"\"\"\n",
    "    with tf.name_scope(name, \"PTBProducer\", [raw_data, batch_size, num_steps]):\n",
    "        raw_data = tf.comvert_to_tensor(raw_data, name=\"raw_data\", dtype=tf.int32)\n",
    "        \n",
    "        data_len = tf.size(raw_data)\n",
    "        batch_len = data_len // batch_size\n",
    "        data = tf.reshape(raw_data[0 : batch_size * batch_len],\n",
    "                         [batch_size, batch_len])\n",
    "        \n",
    "        epoch_size = (batch_len -1) // num_steps\n",
    "        assertion = tf.assert_positive(\n",
    "                    epoch_size,\n",
    "                    message=\"epoch size == 0, decrease batch_size or num_steps\")\n",
    "        with tf.control_dependencies([assertion]):\n",
    "            epoch_size = tf.identity(epoch_size, name=\"epoch_size\")\n",
    "            \n",
    "            i = tf.train.range_input_producer(epoch_size, shuffle=\"epoch_size\")\n",
    "            x = tf.strided_slice(data, [0, i * num_steps],\n",
    "                                [batch_size, (i + 1) * num_steps])\n",
    "            y = tf.strided_slice(data, [0, i * num_steps + 1],\n",
    "                                [batch_size, (i + 1) * num_steps])\n",
    "            y.set_shape([batch_size, num_steps])\n",
    "            return x, y"
   ]
  },
  {
   "cell_type": "code",
   "execution_count": null,
   "metadata": {
    "collapsed": true
   },
   "outputs": [],
   "source": []
  }
 ],
 "metadata": {
  "kernelspec": {
   "display_name": "Python [conda root]",
   "language": "python",
   "name": "conda-root-py"
  },
  "language_info": {
   "codemirror_mode": {
    "name": "ipython",
    "version": 2
   },
   "file_extension": ".py",
   "mimetype": "text/x-python",
   "name": "python",
   "nbconvert_exporter": "python",
   "pygments_lexer": "ipython2",
   "version": "2.7.12"
  }
 },
 "nbformat": 4,
 "nbformat_minor": 2
}
